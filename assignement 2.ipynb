{
 "cells": [
  {
   "cell_type": "code",
   "execution_count": 1,
   "id": "93ee6f69",
   "metadata": {},
   "outputs": [],
   "source": [
    "#Q1 \n",
    "'''In python, we use symbol for comments to understand the code .Things written after \"#\" comes under comment\n",
    "there are two types of comments'''\n",
    "\n",
    "#- single line comment = we use # to comment one line or single line .example\n",
    "a=\"shubhankar\"  # assigning a string into a variable a\n",
    "\n",
    "\n",
    "#- multiple line comment = we use \"\"\" to comment multiple lines. example-\n",
    "\n",
    "a=\"shubhankar\"  '''hi my name is shubhankar\n",
    "   and this is a multiple line comment'''\n"
   ]
  },
  {
   "cell_type": "code",
   "execution_count": 2,
   "id": "507c83df",
   "metadata": {},
   "outputs": [],
   "source": [
    "#Q2\n",
    "'''Variable is a container through which we assign values like-integer,float,string,boolean,complex\n",
    "   \n",
    "   To declare and assign variables we take a value or name and use \"=\" opreator \n",
    "   example-\n",
    "   variable = value '''\n",
    "\n",
    "a = 19     #so here we use a variables and we assign a value as 19\n",
    "\n",
    "b = \"yash\" #so here we use b variables and we assign a value as \"yash\" \n"
   ]
  },
  {
   "cell_type": "code",
   "execution_count": 3,
   "id": "f5914294",
   "metadata": {},
   "outputs": [
    {
     "name": "stdout",
     "output_type": "stream",
     "text": [
      "59.0\n"
     ]
    }
   ],
   "source": [
    "#Q3\n",
    "# For converting one data type to another we used to take a variable suppose \n",
    "\n",
    "num = 59\n",
    "\n",
    "# And we have to convert it into floating value. so used to write a code -\n",
    "\n",
    "print(float(num))\n",
    "\n",
    "# Similarly, we use can also do this with other data types.\n"
   ]
  },
  {
   "cell_type": "code",
   "execution_count": 4,
   "id": "d085e216",
   "metadata": {},
   "outputs": [],
   "source": [
    "#Q4\n"
   ]
  },
  {
   "cell_type": "code",
   "execution_count": 5,
   "id": "d5904cc9",
   "metadata": {},
   "outputs": [
    {
     "data": {
      "text/plain": [
       "[2, 3]"
      ]
     },
     "execution_count": 5,
     "metadata": {},
     "output_type": "execute_result"
    }
   ],
   "source": [
    "#Q5\n",
    "\n",
    "my_list=[1,2,3,4,5]\n",
    "\n",
    "my_list[1:3]"
   ]
  },
  {
   "cell_type": "code",
   "execution_count": 6,
   "id": "497e8427",
   "metadata": {},
   "outputs": [
    {
     "name": "stdout",
     "output_type": "stream",
     "text": [
      "(5+8j)\n"
     ]
    },
    {
     "data": {
      "text/plain": [
       "complex"
      ]
     },
     "execution_count": 6,
     "metadata": {},
     "output_type": "execute_result"
    }
   ],
   "source": [
    "#Q6\n",
    "# For complex number in python we used write a code\n",
    "\n",
    "complex_num = 5+8j\n",
    "\n",
    "print(complex_num)\n",
    "\n",
    "type(complex_num)\n",
    "\n",
    "# we can only use j for the complex number "
   ]
  },
  {
   "cell_type": "code",
   "execution_count": 7,
   "id": "2cfd74f8",
   "metadata": {},
   "outputs": [
    {
     "data": {
      "text/plain": [
       "25"
      ]
     },
     "execution_count": 7,
     "metadata": {},
     "output_type": "execute_result"
    }
   ],
   "source": [
    "#Q7\n",
    "\n",
    "age = 25 # the variable name age and we assign the value 25\n",
    "\n",
    "age"
   ]
  },
  {
   "cell_type": "code",
   "execution_count": 8,
   "id": "ec0a9bbf",
   "metadata": {},
   "outputs": [
    {
     "data": {
      "text/plain": [
       "float"
      ]
     },
     "execution_count": 8,
     "metadata": {},
     "output_type": "execute_result"
    }
   ],
   "source": [
    "#Q8\n",
    "\n",
    "price = 9.99  # the variable name price and we assign the value 9.99\n",
    "\n",
    "type(price) # for showing data type we used to write"
   ]
  },
  {
   "cell_type": "code",
   "execution_count": 9,
   "id": "e1c1200d",
   "metadata": {},
   "outputs": [
    {
     "name": "stdout",
     "output_type": "stream",
     "text": [
      "Shubhankar Mandal\n"
     ]
    }
   ],
   "source": [
    "#Q9\n",
    "name = \"Shubhankar Mandal\" # the variable named name and we assign the name as 'Shubhankar Mandal'\n",
    "\n",
    "print(name) # for print name it we used to write"
   ]
  },
  {
   "cell_type": "code",
   "execution_count": 10,
   "id": "20f4af5b",
   "metadata": {},
   "outputs": [
    {
     "data": {
      "text/plain": [
       "'World'"
      ]
     },
     "execution_count": 10,
     "metadata": {},
     "output_type": "execute_result"
    }
   ],
   "source": [
    "#Q10\n",
    "\n",
    "variable = \"Hello, World!\" # the variable name variable and we assign the string 'Hello, World!'\n",
    "\n",
    "variable [-6:-1] # for extracting the World from the variable we write"
   ]
  },
  {
   "cell_type": "code",
   "execution_count": 11,
   "id": "c42258e7",
   "metadata": {},
   "outputs": [],
   "source": [
    "#Q11\n",
    "\n",
    "# the variable name is_student and we assign the boolean True\n",
    "is_student = True # it assumes that you are currently a student\n",
    "\n",
    "# the variable name is_student and we assign the boolean False\n",
    "is_student = False # it assumes that you are currently not a student"
   ]
  },
  {
   "cell_type": "code",
   "execution_count": null,
   "id": "5ebb20a8",
   "metadata": {},
   "outputs": [],
   "source": []
  }
 ],
 "metadata": {
  "kernelspec": {
   "display_name": "Python 3 (ipykernel)",
   "language": "python",
   "name": "python3"
  },
  "language_info": {
   "codemirror_mode": {
    "name": "ipython",
    "version": 3
   },
   "file_extension": ".py",
   "mimetype": "text/x-python",
   "name": "python",
   "nbconvert_exporter": "python",
   "pygments_lexer": "ipython3",
   "version": "3.10.9"
  }
 },
 "nbformat": 4,
 "nbformat_minor": 5
}
